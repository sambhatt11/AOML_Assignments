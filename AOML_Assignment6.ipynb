{
  "nbformat": 4,
  "nbformat_minor": 0,
  "metadata": {
    "colab": {
      "provenance": [],
      "gpuType": "T4"
    },
    "kernelspec": {
      "name": "python3",
      "display_name": "Python 3"
    },
    "language_info": {
      "name": "python"
    },
    "accelerator": "GPU"
  },
  "cells": [
    {
      "cell_type": "code",
      "execution_count": 1,
      "metadata": {
        "colab": {
          "base_uri": "https://localhost:8080/"
        },
        "id": "kMdhwXBVIHqr",
        "outputId": "22ae8a58-ead7-4adc-966c-1b724b798a1e"
      },
      "outputs": [
        {
          "output_type": "stream",
          "name": "stdout",
          "text": [
            "Downloading data from https://storage.googleapis.com/tensorflow/tf-keras-datasets/train-labels-idx1-ubyte.gz\n",
            "\u001b[1m29515/29515\u001b[0m \u001b[32m━━━━━━━━━━━━━━━━━━━━\u001b[0m\u001b[37m\u001b[0m \u001b[1m0s\u001b[0m 0us/step\n",
            "Downloading data from https://storage.googleapis.com/tensorflow/tf-keras-datasets/train-images-idx3-ubyte.gz\n",
            "\u001b[1m26421880/26421880\u001b[0m \u001b[32m━━━━━━━━━━━━━━━━━━━━\u001b[0m\u001b[37m\u001b[0m \u001b[1m0s\u001b[0m 0us/step\n",
            "Downloading data from https://storage.googleapis.com/tensorflow/tf-keras-datasets/t10k-labels-idx1-ubyte.gz\n",
            "\u001b[1m5148/5148\u001b[0m \u001b[32m━━━━━━━━━━━━━━━━━━━━\u001b[0m\u001b[37m\u001b[0m \u001b[1m0s\u001b[0m 0us/step\n",
            "Downloading data from https://storage.googleapis.com/tensorflow/tf-keras-datasets/t10k-images-idx3-ubyte.gz\n",
            "\u001b[1m4422102/4422102\u001b[0m \u001b[32m━━━━━━━━━━━━━━━━━━━━\u001b[0m\u001b[37m\u001b[0m \u001b[1m0s\u001b[0m 0us/step\n"
          ]
        }
      ],
      "source": [
        "import numpy as np\n",
        "import matplotlib.pyplot as plt\n",
        "from tensorflow.keras.datasets import fashion_mnist\n",
        "from sklearn.svm import SVC\n",
        "from sklearn.metrics import accuracy_score\n",
        "from sklearn.model_selection import GridSearchCV\n",
        "\n",
        "\n",
        "(x_train, y_train), (x_test, y_test) = fashion_mnist.load_data()\n",
        "\n",
        "x_train = x_train.reshape(x_train.shape[0], -1) / 255.0  # Normalize pixel values\n",
        "x_test = x_test.reshape(x_test.shape[0], -1) / 255.0\n",
        "\n",
        "\n",
        "x_train_small, y_train_small = x_train[:10000], y_train[:10000]\n",
        "x_test_small, y_test_small = x_test[:2000], y_test[:2000]\n"
      ]
    },
    {
      "cell_type": "code",
      "source": [
        "# Define parameter grid for C\n",
        "param_grid_linear = {'C': [0.1, 1, 10, 100]}\n",
        "\n",
        "# Perform Grid Search with cross-validation\n",
        "grid_search_linear = GridSearchCV(SVC(kernel='linear'), param_grid_linear, cv=3, n_jobs=-1, verbose=2)\n",
        "grid_search_linear.fit(x_train_small, y_train_small)\n",
        "\n",
        "# Best Linear SVM model\n",
        "best_linear_svm = grid_search_linear.best_estimator_\n",
        "y_pred_linear = best_linear_svm.predict(x_test_small)\n",
        "acc_linear = accuracy_score(y_test_small, y_pred_linear)\n",
        "\n",
        "print(f\"Best Linear SVM Accuracy: {acc_linear:.4f}\")\n",
        "print(f\"Best C: {grid_search_linear.best_params_['C']}\")\n"
      ],
      "metadata": {
        "colab": {
          "base_uri": "https://localhost:8080/"
        },
        "id": "kgi5cMX6I0n9",
        "outputId": "a3234557-394b-4d51-98f6-51fdecec3c17"
      },
      "execution_count": 5,
      "outputs": [
        {
          "output_type": "stream",
          "name": "stdout",
          "text": [
            "Fitting 3 folds for each of 4 candidates, totalling 12 fits\n",
            "Best Linear SVM Accuracy: 0.8480\n",
            "Best C: 0.1\n"
          ]
        }
      ]
    },
    {
      "cell_type": "code",
      "source": [
        "# Define parameter grid for polynomial kernel\n",
        "param_grid_poly = {\n",
        "    'C': [0.1, 1, 10],\n",
        "    'degree': [2, 3, 4]\n",
        "}\n",
        "\n",
        "# Perform Grid Search\n",
        "grid_search_poly = GridSearchCV(SVC(kernel='poly'), param_grid_poly, cv=3, n_jobs=-1, verbose=2)\n",
        "grid_search_poly.fit(x_train_small, y_train_small)\n",
        "\n",
        "# Best Polynomial SVM model\n",
        "best_poly_svm = grid_search_poly.best_estimator_\n",
        "y_pred_poly = best_poly_svm.predict(x_test_small)\n",
        "acc_poly = accuracy_score(y_test_small, y_pred_poly)\n",
        "\n",
        "print(f\"Best Polynomial SVM Accuracy: {acc_poly:.4f}\")\n",
        "print(f\"Best Parameters: {grid_search_poly.best_params_}\")\n"
      ],
      "metadata": {
        "colab": {
          "base_uri": "https://localhost:8080/"
        },
        "id": "xzcwLUdGJOKQ",
        "outputId": "93260763-e182-4360-d25d-8515aa6f18e5"
      },
      "execution_count": 6,
      "outputs": [
        {
          "output_type": "stream",
          "name": "stdout",
          "text": [
            "Fitting 3 folds for each of 9 candidates, totalling 27 fits\n",
            "Best Polynomial SVM Accuracy: 0.8680\n",
            "Best Parameters: {'C': 10, 'degree': 2}\n"
          ]
        }
      ]
    },
    {
      "cell_type": "code",
      "source": [
        "# Define parameter grid for RBF kernel\n",
        "param_grid_rbf = {\n",
        "    'C': [0.1, 1, 10],\n",
        "    'gamma': ['scale', 'auto', 0.01, 0.1, 1]\n",
        "}\n",
        "\n",
        "# Perform Grid Search\n",
        "grid_search_rbf = GridSearchCV(SVC(kernel='rbf'), param_grid_rbf, cv=3, n_jobs=-1, verbose=2)\n",
        "grid_search_rbf.fit(x_train_small, y_train_small)\n",
        "\n",
        "# Best RBF SVM model\n",
        "best_rbf_svm = grid_search_rbf.best_estimator_\n",
        "y_pred_rbf = best_rbf_svm.predict(x_test_small)\n",
        "acc_rbf = accuracy_score(y_test_small, y_pred_rbf)\n",
        "\n",
        "print(f\"Best RBF SVM Accuracy: {acc_rbf:.4f}\")\n",
        "print(f\"Best Parameters: {grid_search_rbf.best_params_}\")\n"
      ],
      "metadata": {
        "colab": {
          "base_uri": "https://localhost:8080/"
        },
        "id": "UQf5ZSrZI5mi",
        "outputId": "8af60f77-a368-4a83-a81e-d1f1bf0aa618"
      },
      "execution_count": 7,
      "outputs": [
        {
          "output_type": "stream",
          "name": "stdout",
          "text": [
            "Fitting 3 folds for each of 15 candidates, totalling 45 fits\n",
            "Best RBF SVM Accuracy: 0.8735\n",
            "Best Parameters: {'C': 10, 'gamma': 'scale'}\n"
          ]
        }
      ]
    },
    {
      "cell_type": "code",
      "source": [
        "import numpy as np\n",
        "import matplotlib.pyplot as plt\n",
        "from tensorflow.keras.datasets import fashion_mnist\n",
        "from sklearn.svm import SVC\n",
        "from sklearn.metrics import accuracy_score\n",
        "from sklearn.model_selection import GridSearchCV\n",
        "\n",
        "# Load Fashion MNIST dataset\n",
        "(x_train, y_train), (x_test, y_test) = fashion_mnist.load_data()\n",
        "\n",
        "# Flatten images to (num_samples, 784) and normalize\n",
        "x_train = x_train.reshape(x_train.shape[0], -1) / 255.0\n",
        "x_test = x_test.reshape(x_test.shape[0], -1) / 255.0\n"
      ],
      "metadata": {
        "id": "BDmxl8wKJ2jB"
      },
      "execution_count": 8,
      "outputs": []
    },
    {
      "cell_type": "code",
      "source": [],
      "metadata": {
        "id": "qwoh6aGXSonF"
      },
      "execution_count": 9,
      "outputs": []
    },
    {
      "cell_type": "code",
      "source": [],
      "metadata": {
        "id": "P2o3wzl1Srg_"
      },
      "execution_count": null,
      "outputs": []
    }
  ]
}